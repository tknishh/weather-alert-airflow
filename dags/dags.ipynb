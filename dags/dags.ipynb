{
 "cells": [
  {
   "cell_type": "code",
   "execution_count": 1,
   "metadata": {},
   "outputs": [
    {
     "name": "stderr",
     "output_type": "stream",
     "text": [
      "WARNING:root:OSError while attempting to symlink the latest log directory\n"
     ]
    },
    {
     "data": {
      "text/html": [
       "<pre style=\"white-space:pre;overflow-x:auto;line-height:normal;font-family:Menlo,'DejaVu Sans Mono',consolas,'Courier New',monospace\"><span style=\"color: #808000; text-decoration-color: #808000; font-weight: bold\">e:\\JUET\\Projects\\weather-alert-airflow\\airflow\\Lib\\site-packages\\airflow\\models\\base.py:</span><span style=\"color: #808000; text-decoration-color: #808000; font-weight: bold\">49</span><span style=\"color: #808000; text-decoration-color: #808000; font-weight: bold\"> MovedIn20Warning</span><span style=\"color: #808000; text-decoration-color: #808000\">: Deprecated API features detected! These </span><span style=\"color: #808000; text-decoration-color: #808000; font-weight: bold\">feature(</span><span style=\"color: #808000; text-decoration-color: #808000\">s</span><span style=\"color: #808000; text-decoration-color: #808000; font-weight: bold\">)</span><span style=\"color: #808000; text-decoration-color: #808000\"> are not compatible with SQLAlchemy </span><span style=\"color: #808000; text-decoration-color: #808000; font-weight: bold\">2.0</span><span style=\"color: #808000; text-decoration-color: #808000\">. To prevent incompatible upgrades prior to updating applications, ensure requirements files are pinned to </span><span style=\"color: #808000; text-decoration-color: #808000\">\"sqlalchemy&lt;2.0\"</span><span style=\"color: #808000; text-decoration-color: #808000\">. Set environment variable </span><span style=\"color: #808000; text-decoration-color: #808000\">SQLALCHEMY_WARN_20</span><span style=\"color: #808000; text-decoration-color: #808000\">=</span><span style=\"color: #808000; text-decoration-color: #808000; font-weight: bold\">1</span><span style=\"color: #808000; text-decoration-color: #808000\"> to show all deprecation warnings.  Set environment variable </span><span style=\"color: #808000; text-decoration-color: #808000\">SQLALCHEMY_SILENCE_UBER_WARNING</span><span style=\"color: #808000; text-decoration-color: #808000\">=</span><span style=\"color: #808000; text-decoration-color: #808000; font-weight: bold\">1</span><span style=\"color: #808000; text-decoration-color: #808000\"> to silence this message. </span><span style=\"color: #808000; text-decoration-color: #808000; font-weight: bold\">(</span><span style=\"color: #808000; text-decoration-color: #808000\">Background on SQLAlchemy </span><span style=\"color: #808000; text-decoration-color: #808000; font-weight: bold\">2.0</span><span style=\"color: #808000; text-decoration-color: #808000\"> at: </span><span style=\"color: #808000; text-decoration-color: #808000; text-decoration: underline\">https://sqlalche.me/e/b8d9)</span>\n",
       "</pre>\n"
      ],
      "text/plain": [
       "\u001b[1;33me:\\JUET\\Projects\\weather-alert-airflow\\airflow\\Lib\\site-packages\\airflow\\models\\base.py:\u001b[0m\u001b[1;33m49\u001b[0m\u001b[1;33m MovedIn20Warning\u001b[0m\u001b[33m: Deprecated API features detected! These \u001b[0m\u001b[1;33mfeature\u001b[0m\u001b[1;33m(\u001b[0m\u001b[33ms\u001b[0m\u001b[1;33m)\u001b[0m\u001b[33m are not compatible with SQLAlchemy \u001b[0m\u001b[1;33m2.0\u001b[0m\u001b[33m. To prevent incompatible upgrades prior to updating applications, ensure requirements files are pinned to \u001b[0m\u001b[33m\"sqlalchemy<2.0\"\u001b[0m\u001b[33m. Set environment variable \u001b[0m\u001b[33mSQLALCHEMY_WARN_20\u001b[0m\u001b[33m=\u001b[0m\u001b[1;33m1\u001b[0m\u001b[33m to show all deprecation warnings.  Set environment variable \u001b[0m\u001b[33mSQLALCHEMY_SILENCE_UBER_WARNING\u001b[0m\u001b[33m=\u001b[0m\u001b[1;33m1\u001b[0m\u001b[33m to silence this message. \u001b[0m\u001b[1;33m(\u001b[0m\u001b[33mBackground on SQLAlchemy \u001b[0m\u001b[1;33m2.0\u001b[0m\u001b[33m at: \u001b[0m\u001b[4;33mhttps://sqlalche.me/e/b8d9\u001b[0m\u001b[4;33m)\u001b[0m\n"
      ]
     },
     "metadata": {},
     "output_type": "display_data"
    }
   ],
   "source": [
    "import json\n",
    "import requests\n",
    "import logging\n",
    "from datetime import datetime\n",
    "\n",
    "from twilio.rest import Client\n",
    "\n",
    "from airflow.models import DAG, Variable\n",
    "from airflow.operators.python import PythonOperator"
   ]
  },
  {
   "cell_type": "code",
   "execution_count": 2,
   "metadata": {},
   "outputs": [],
   "source": [
    "logging.basicConfig(level=logging.INFO)\n",
    "logger = logging.getLogger(__name__)"
   ]
  },
  {
   "cell_type": "code",
   "execution_count": 6,
   "metadata": {},
   "outputs": [
    {
     "data": {
      "text/html": [
       "<pre style=\"white-space:pre;overflow-x:auto;line-height:normal;font-family:Menlo,'DejaVu Sans Mono',consolas,'Courier New',monospace\"><span style=\"color: #808000; text-decoration-color: #808000; font-weight: bold\">C:\\Users\\Tedd\\AppData\\Local\\Temp\\ipykernel_696\\</span><span style=\"color: #808000; text-decoration-color: #808000; font-weight: bold\">2983807674.</span><span style=\"color: #808000; text-decoration-color: #808000; font-weight: bold\">py:</span><span style=\"color: #808000; text-decoration-color: #808000; font-weight: bold\">39</span><span style=\"color: #808000; text-decoration-color: #808000; font-weight: bold\"> RemovedInAirflow3Warning</span><span style=\"color: #808000; text-decoration-color: #808000\">: Param `schedule_interval` is deprecated and will be removed in a future release. Please use `schedule` instead.</span>\n",
       "</pre>\n"
      ],
      "text/plain": [
       "\u001b[1;33mC:\\Users\\Tedd\\AppData\\Local\\Temp\\ipykernel_696\\\u001b[0m\u001b[1;33m2983807674.\u001b[0m\u001b[1;33mpy:\u001b[0m\u001b[1;33m39\u001b[0m\u001b[1;33m RemovedInAirflow3Warning\u001b[0m\u001b[33m: Param `schedule_interval` is deprecated and will be removed in a future release. Please use `schedule` instead.\u001b[0m\n"
      ]
     },
     "metadata": {},
     "output_type": "display_data"
    }
   ],
   "source": [
    "def fetch_weather_details(ti):\n",
    "    app_id = \"1c87f33f697c742522907b3afe815451\"\n",
    "    city = \"Palghar\"\n",
    "    url = Variable.get('OPEN_WEATHER_MAP_PATH') + \"?q=\" + city + \"&appid=\" + app_id\n",
    "\n",
    "    try:\n",
    "        logger.info(f\"Doing an API call to end_point {url}\")\n",
    "        response_text = requests.request(\"GET\", url).text\n",
    "        logger_info(f\"Fetched API response {response_text}\")\n",
    "        response_dict = json.loads(response_text)\n",
    "        weather_details = response_dict['main']\n",
    "        logger.info(f\"Data successfully pushed to airflow xcom {weather_details}\")\n",
    "    except Exception as e:\n",
    "        logger.info(f\"Error while fetching weather details with Exception {e}\")\n",
    "\n",
    "# ti.xcom_push(key = 'weather_data', value = weather_details)\n",
    "\n",
    "def send_alert(ti):\n",
    "    logger.info(f\"Pulling airflow xcom\")\n",
    "    weather_details = ti.xcom_pull(tasks_id = 'fetch_weather_data', key = 'weather_data')\n",
    "    logger.info(f\"Successfully oulled airflow xcom {weather_details}\")\n",
    "    custom_message = f\"Today's temperature is {int(weather_details['temp']-273)}\"\n",
    "    account_sid = \"AC8770c12e4ea01bcc15a1580ebc5f5e8f\"\n",
    "    auth_key = \"9161a52914b6a8bb2c809a5ea91bf688\"\n",
    "\n",
    "    try:\n",
    "        logger.info(f\"Doing twilio API call with custom message {custom_message}\")\n",
    "        client = client.message.create(\n",
    "            body = custom_message,\n",
    "            from_ = \"+19793008098\",\n",
    "            to = \"+917378427998\"\n",
    "        )\n",
    "        logger.info(f\"Successfully made API call\")\n",
    "\n",
    "    except Exception as e:\n",
    "        logger.info(f\"Failed to send weather alert\")\n",
    "\n",
    "\n",
    "with DAG(dag_id=\"weather_alert\",\n",
    "    default_args = {},\n",
    "    schedule_interval = \"0 10 * * *\",\n",
    "    start_date = datetime(2022, 12, 28, 10),\n",
    "    catchup = False\n",
    "    ) as dag:\n",
    "    \n",
    "    fetch_weather_data = PythonOperator(\n",
    "        task_id = \"fetch_weather_data\",\n",
    "        python_callable = fetch_weather_details,\n",
    "        retries = 3\n",
    "    )\n",
    "\n",
    "    send_alert = PythonOperator(\n",
    "        task_id = \"send_alert\",\n",
    "        python_callable = send_alert,\n",
    "        retries = 3\n",
    "    )"
   ]
  },
  {
   "cell_type": "code",
   "execution_count": null,
   "metadata": {},
   "outputs": [],
   "source": [
    "# DAG sequence\n",
    "# fetch_weather_data >> send_alert"
   ]
  },
  {
   "cell_type": "code",
   "execution_count": null,
   "metadata": {},
   "outputs": [],
   "source": []
  },
  {
   "cell_type": "code",
   "execution_count": null,
   "metadata": {},
   "outputs": [],
   "source": []
  },
  {
   "cell_type": "code",
   "execution_count": null,
   "metadata": {},
   "outputs": [],
   "source": [
    "# weather_details = ti.xcom_pull(tasks_id = 'fetch_weather_data', key = 'weather_data')"
   ]
  },
  {
   "cell_type": "code",
   "execution_count": null,
   "metadata": {},
   "outputs": [],
   "source": []
  },
  {
   "cell_type": "code",
   "execution_count": null,
   "metadata": {},
   "outputs": [],
   "source": []
  },
  {
   "cell_type": "code",
   "execution_count": null,
   "metadata": {},
   "outputs": [],
   "source": []
  },
  {
   "cell_type": "code",
   "execution_count": null,
   "metadata": {},
   "outputs": [],
   "source": []
  }
 ],
 "metadata": {
  "kernelspec": {
   "display_name": "airflow",
   "language": "python",
   "name": "python3"
  },
  "language_info": {
   "codemirror_mode": {
    "name": "ipython",
    "version": 3
   },
   "file_extension": ".py",
   "mimetype": "text/x-python",
   "name": "python",
   "nbconvert_exporter": "python",
   "pygments_lexer": "ipython3",
   "version": "3.11.1"
  },
  "orig_nbformat": 4,
  "vscode": {
   "interpreter": {
    "hash": "36b367c3daacdf14bf51784055650124920ca82137c121e6d6cec94722b7090b"
   }
  }
 },
 "nbformat": 4,
 "nbformat_minor": 2
}
