{
 "cells": [
  {
   "cell_type": "code",
   "execution_count": 6,
   "metadata": {},
   "outputs": [],
   "source": [
    "import json\n",
    "import requests\n",
    "import logging\n",
    "from datetime import datetime\n",
    "\n",
    "from twilio.rest import Client\n",
    "\n",
    "from airflow.models import DAG, Variable\n",
    "from airflow.operators.python import PythonOperator"
   ]
  },
  {
   "cell_type": "code",
   "execution_count": 8,
   "metadata": {},
   "outputs": [],
   "source": [
    "logging.basicConfig(level=logging.INFO)\n",
    "logger = logging.getLogger(__name__)"
   ]
  },
  {
   "cell_type": "code",
   "execution_count": 9,
   "metadata": {},
   "outputs": [
    {
     "data": {
      "text/html": [
       "<pre style=\"white-space:pre;overflow-x:auto;line-height:normal;font-family:Menlo,'DejaVu Sans Mono',consolas,'Courier New',monospace\"><span style=\"color: #808000; text-decoration-color: #808000; font-weight: bold\">C:\\Users\\Tedd\\AppData\\Local\\Temp\\ipykernel_24708\\</span><span style=\"color: #808000; text-decoration-color: #808000; font-weight: bold\">1266788774.</span><span style=\"color: #808000; text-decoration-color: #808000; font-weight: bold\">py:</span><span style=\"color: #808000; text-decoration-color: #808000; font-weight: bold\">1</span><span style=\"color: #808000; text-decoration-color: #808000; font-weight: bold\"> RemovedInAirflow3Warning</span><span style=\"color: #808000; text-decoration-color: #808000\">: Param `schedule_interval` is deprecated and will be removed in a future release. Please use `schedule` instead.</span>\n",
       "</pre>\n"
      ],
      "text/plain": [
       "\u001b[1;33mC:\\Users\\Tedd\\AppData\\Local\\Temp\\ipykernel_24708\\\u001b[0m\u001b[1;33m1266788774.\u001b[0m\u001b[1;33mpy:\u001b[0m\u001b[1;33m1\u001b[0m\u001b[1;33m RemovedInAirflow3Warning\u001b[0m\u001b[33m: Param `schedule_interval` is deprecated and will be removed in a future release. Please use `schedule` instead.\u001b[0m\n"
      ]
     },
     "metadata": {},
     "output_type": "display_data"
    },
    {
     "ename": "NameError",
     "evalue": "name 'fetch_weather_details' is not defined",
     "output_type": "error",
     "traceback": [
      "\u001b[1;31m---------------------------------------------------------------------------\u001b[0m",
      "\u001b[1;31mNameError\u001b[0m                                 Traceback (most recent call last)",
      "Cell \u001b[1;32mIn[9], line 10\u001b[0m\n\u001b[0;32m      1\u001b[0m \u001b[39mwith\u001b[39;00m DAG(dag_id\u001b[39m=\u001b[39m\u001b[39m\"\u001b[39m\u001b[39mweather_alert\u001b[39m\u001b[39m\"\u001b[39m,\n\u001b[0;32m      2\u001b[0m     default_args \u001b[39m=\u001b[39m {},\n\u001b[0;32m      3\u001b[0m     schedule_interval \u001b[39m=\u001b[39m \u001b[39m\"\u001b[39m\u001b[39m0 10 * * *\u001b[39m\u001b[39m\"\u001b[39m,\n\u001b[0;32m      4\u001b[0m     start_date \u001b[39m=\u001b[39m datetime(\u001b[39m2022\u001b[39m, \u001b[39m12\u001b[39m, \u001b[39m28\u001b[39m, \u001b[39m10\u001b[39m),\n\u001b[0;32m      5\u001b[0m     catchup \u001b[39m=\u001b[39m \u001b[39mFalse\u001b[39;00m\n\u001b[0;32m      6\u001b[0m     ) \u001b[39mas\u001b[39;00m dag:\n\u001b[0;32m      8\u001b[0m     fetch_weather_data \u001b[39m=\u001b[39m PythonOperator(\n\u001b[0;32m      9\u001b[0m         task_id \u001b[39m=\u001b[39m \u001b[39m\"\u001b[39m\u001b[39mfetch_weather_data\u001b[39m\u001b[39m\"\u001b[39m,\n\u001b[1;32m---> 10\u001b[0m         python_callable \u001b[39m=\u001b[39m fetch_weather_details,\n\u001b[0;32m     11\u001b[0m         retries \u001b[39m=\u001b[39m \u001b[39m3\u001b[39m\n\u001b[0;32m     12\u001b[0m     )\n\u001b[0;32m     14\u001b[0m     send_alert \u001b[39m=\u001b[39m PythonOperator(\n\u001b[0;32m     15\u001b[0m         task_id \u001b[39m=\u001b[39m \u001b[39m\"\u001b[39m\u001b[39msend_alert\u001b[39m\u001b[39m\"\u001b[39m,\n\u001b[0;32m     16\u001b[0m         python_callable \u001b[39m=\u001b[39m send_alert,\n\u001b[0;32m     17\u001b[0m         retries \u001b[39m=\u001b[39m \u001b[39m3\u001b[39m\n\u001b[0;32m     18\u001b[0m     )\n",
      "\u001b[1;31mNameError\u001b[0m: name 'fetch_weather_details' is not defined"
     ]
    }
   ],
   "source": [
    "with DAG(dag_id=\"weather_alert\",\n",
    "    default_args = {},\n",
    "    schedule_interval = \"0 10 * * *\",\n",
    "    start_date = datetime(2022, 12, 28, 10),\n",
    "    catchup = False\n",
    "    ) as dag:\n",
    "    \n",
    "    fetch_weather_data = PythonOperator(\n",
    "        task_id = \"fetch_weather_data\",\n",
    "        python_callable = fetch_weather_details,\n",
    "        retries = 3\n",
    "    )\n",
    "\n",
    "    send_alert = PythonOperator(\n",
    "        task_id = \"send_alert\",\n",
    "        python_callable = send_alert,\n",
    "        retries = 3\n",
    "    )"
   ]
  },
  {
   "cell_type": "code",
   "execution_count": null,
   "metadata": {},
   "outputs": [],
   "source": [
    "# DAG sequence\n",
    "# fetch_weather_data >> send_alert"
   ]
  },
  {
   "cell_type": "code",
   "execution_count": null,
   "metadata": {},
   "outputs": [],
   "source": [
    "def fetch_weather_details(ti):\n",
    "    app_id = \"1c87f33f697c742522907b3afe815451\"\n",
    "    city = \"Palghar\"\n",
    "    url = Variable.get('OPEN_WEATHER_MAP_PATH') + \"?q=\" + city + \"&appid=\" + app_id\n",
    "\n",
    "    try:\n",
    "        logger.info(f\"Doing an API call to end_point {url}\")\n",
    "        response_text = requests.request(\"GET\", url).text\n",
    "        logger_info(f\"Fetched API response {response_text}\")\n",
    "        response_dict = json.loads(response_text)\n",
    "        weather_details = response_dict['main']\n",
    "        logger.info(f\"Data successfully pushed to airflow xcom {weather_details}\")\n",
    "    except Exception as e:\n",
    "        logger.info(f\"Error while fetching weather details with Exception {e}\")"
   ]
  },
  {
   "cell_type": "code",
   "execution_count": null,
   "metadata": {},
   "outputs": [],
   "source": [
    "ti.xcom_push(key = 'weather_data', value = weather_details)"
   ]
  },
  {
   "cell_type": "code",
   "execution_count": null,
   "metadata": {},
   "outputs": [],
   "source": [
    "weather_details = ti.xcom_pull(tasks_id = 'fetch_weather_data', key = 'weather_data')"
   ]
  },
  {
   "cell_type": "code",
   "execution_count": null,
   "metadata": {},
   "outputs": [],
   "source": [
    "def send_alert(ti):\n",
    "    logger.info(f\"Pulling airflow xcom\")\n",
    "    weather_details = ti.xcom_pull(tasks_id = 'fetch_weather_data', key = 'weather_data')\n",
    "    logger.info(f\"Successfully oulled airflow xcom {weather_details}\")\n",
    "    custom_message = f\"Today's temperature is {int(weather_details['temp']-273)}\"\n",
    "    account_sid = \"AC8770c12e4ea01bcc15a1580ebc5f5e8f\"\n",
    "    auth_key = \"9161a52914b6a8bb2c809a5ea91bf688\"\n",
    "\n",
    "    try:\n",
    "        logger.info(f\"Doing twilio API call with custom message {custom_message}\")\n",
    "        client = client.message.create(\n",
    "            body = custom_message,\n",
    "            from_ = \"\"\n",
    "        )"
   ]
  },
  {
   "cell_type": "code",
   "execution_count": null,
   "metadata": {},
   "outputs": [],
   "source": []
  },
  {
   "cell_type": "code",
   "execution_count": null,
   "metadata": {},
   "outputs": [],
   "source": []
  },
  {
   "cell_type": "code",
   "execution_count": null,
   "metadata": {},
   "outputs": [],
   "source": []
  }
 ],
 "metadata": {
  "kernelspec": {
   "display_name": "airflow",
   "language": "python",
   "name": "python3"
  },
  "language_info": {
   "codemirror_mode": {
    "name": "ipython",
    "version": 3
   },
   "file_extension": ".py",
   "mimetype": "text/x-python",
   "name": "python",
   "nbconvert_exporter": "python",
   "pygments_lexer": "ipython3",
   "version": "3.11.1 (tags/v3.11.1:a7a450f, Dec  6 2022, 19:58:39) [MSC v.1934 64 bit (AMD64)]"
  },
  "orig_nbformat": 4,
  "vscode": {
   "interpreter": {
    "hash": "36b367c3daacdf14bf51784055650124920ca82137c121e6d6cec94722b7090b"
   }
  }
 },
 "nbformat": 4,
 "nbformat_minor": 2
}
